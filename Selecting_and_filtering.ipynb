{
 "cells": [
  {
   "cell_type": "markdown",
   "id": "c1c81c5d-48c1-4c75-8892-e23daa387e98",
   "metadata": {},
   "source": [
    "# Data selection & filtering"
   ]
  },
  {
   "cell_type": "code",
   "execution_count": 2,
   "id": "f88b6d3d-8592-42f8-92aa-26329fee6250",
   "metadata": {},
   "outputs": [],
   "source": [
    "import pandas as pd"
   ]
  },
  {
   "cell_type": "code",
   "execution_count": 4,
   "id": "3f9f4e18-a2d1-4be1-b6b1-c92ed891eea3",
   "metadata": {},
   "outputs": [
    {
     "name": "stdout",
     "output_type": "stream",
     "text": [
      "       Name   Age      City Course College\n",
      "0       Ram  20.0     Delhi    MCA     SMS\n",
      "1     Shyam  22.0    Mumbai    BCA     SMS\n",
      "2     Rohan  21.0     Patna    BBA     SMS\n",
      "3     Rohit  15.0  Varanasi    BCA     SMS\n",
      "4     Priti  13.0     Delhi    MCA     SMS\n",
      "5     Pooja  23.0    Mumbai    MCA     SMS\n",
      "6   Shivam   11.0  Varanasi    BBA     SMS\n",
      "7      Aman  20.0  Varanasi    BCA     SMS\n",
      "8     Kunal  34.0     Delhi    BBA     SMS\n",
      "9      Anna  11.0     Patna    NaN     SMS\n",
      "10   Bhavna  23.0    Mumbai    MBA     SMS\n",
      "11      Ram  20.0     Delhi    MCA     SMS\n",
      "12      NaN  20.0    Mumbai    NaN     SMS\n",
      "13    Vivek   NaN     Delhi    BBA     SMS\n"
     ]
    }
   ],
   "source": [
    "df=pd.read_excel(\"studen.xlsx\")\n",
    "print(df)"
   ]
  },
  {
   "cell_type": "code",
   "execution_count": 7,
   "id": "6e704ee9-7426-47dc-8362-1ec92029af7e",
   "metadata": {},
   "outputs": [
    {
     "data": {
      "text/plain": [
       "pandas.core.series.Series"
      ]
     },
     "execution_count": 7,
     "metadata": {},
     "output_type": "execute_result"
    }
   ],
   "source": [
    "type(df['Name'])"
   ]
  },
  {
   "cell_type": "code",
   "execution_count": 9,
   "id": "334445ab-caa4-4d0e-aa26-4d01b905abe3",
   "metadata": {},
   "outputs": [
    {
     "data": {
      "text/html": [
       "<div>\n",
       "<style scoped>\n",
       "    .dataframe tbody tr th:only-of-type {\n",
       "        vertical-align: middle;\n",
       "    }\n",
       "\n",
       "    .dataframe tbody tr th {\n",
       "        vertical-align: top;\n",
       "    }\n",
       "\n",
       "    .dataframe thead th {\n",
       "        text-align: right;\n",
       "    }\n",
       "</style>\n",
       "<table border=\"1\" class=\"dataframe\">\n",
       "  <thead>\n",
       "    <tr style=\"text-align: right;\">\n",
       "      <th></th>\n",
       "      <th>Name</th>\n",
       "      <th>Age</th>\n",
       "    </tr>\n",
       "  </thead>\n",
       "  <tbody>\n",
       "    <tr>\n",
       "      <th>0</th>\n",
       "      <td>Ram</td>\n",
       "      <td>20.0</td>\n",
       "    </tr>\n",
       "    <tr>\n",
       "      <th>1</th>\n",
       "      <td>Shyam</td>\n",
       "      <td>22.0</td>\n",
       "    </tr>\n",
       "    <tr>\n",
       "      <th>2</th>\n",
       "      <td>Rohan</td>\n",
       "      <td>21.0</td>\n",
       "    </tr>\n",
       "    <tr>\n",
       "      <th>3</th>\n",
       "      <td>Rohit</td>\n",
       "      <td>15.0</td>\n",
       "    </tr>\n",
       "    <tr>\n",
       "      <th>4</th>\n",
       "      <td>Priti</td>\n",
       "      <td>13.0</td>\n",
       "    </tr>\n",
       "    <tr>\n",
       "      <th>5</th>\n",
       "      <td>Pooja</td>\n",
       "      <td>23.0</td>\n",
       "    </tr>\n",
       "    <tr>\n",
       "      <th>6</th>\n",
       "      <td>Shivam</td>\n",
       "      <td>11.0</td>\n",
       "    </tr>\n",
       "    <tr>\n",
       "      <th>7</th>\n",
       "      <td>Aman</td>\n",
       "      <td>20.0</td>\n",
       "    </tr>\n",
       "    <tr>\n",
       "      <th>8</th>\n",
       "      <td>Kunal</td>\n",
       "      <td>34.0</td>\n",
       "    </tr>\n",
       "    <tr>\n",
       "      <th>9</th>\n",
       "      <td>Anna</td>\n",
       "      <td>11.0</td>\n",
       "    </tr>\n",
       "    <tr>\n",
       "      <th>10</th>\n",
       "      <td>Bhavna</td>\n",
       "      <td>23.0</td>\n",
       "    </tr>\n",
       "    <tr>\n",
       "      <th>11</th>\n",
       "      <td>Ram</td>\n",
       "      <td>20.0</td>\n",
       "    </tr>\n",
       "    <tr>\n",
       "      <th>12</th>\n",
       "      <td>NaN</td>\n",
       "      <td>20.0</td>\n",
       "    </tr>\n",
       "    <tr>\n",
       "      <th>13</th>\n",
       "      <td>Vivek</td>\n",
       "      <td>NaN</td>\n",
       "    </tr>\n",
       "  </tbody>\n",
       "</table>\n",
       "</div>"
      ],
      "text/plain": [
       "       Name   Age\n",
       "0       Ram  20.0\n",
       "1     Shyam  22.0\n",
       "2     Rohan  21.0\n",
       "3     Rohit  15.0\n",
       "4     Priti  13.0\n",
       "5     Pooja  23.0\n",
       "6   Shivam   11.0\n",
       "7      Aman  20.0\n",
       "8     Kunal  34.0\n",
       "9      Anna  11.0\n",
       "10   Bhavna  23.0\n",
       "11      Ram  20.0\n",
       "12      NaN  20.0\n",
       "13    Vivek   NaN"
      ]
     },
     "execution_count": 9,
     "metadata": {},
     "output_type": "execute_result"
    }
   ],
   "source": [
    "df[['Name','Age']]"
   ]
  },
  {
   "cell_type": "code",
   "execution_count": 11,
   "id": "fb8b5239-3150-49e0-bee5-da9fd20a7921",
   "metadata": {},
   "outputs": [
    {
     "data": {
      "text/plain": [
       "Name         Ram\n",
       "Age         20.0\n",
       "City       Delhi\n",
       "Course       MCA\n",
       "College      SMS\n",
       "Name: 0, dtype: object"
      ]
     },
     "execution_count": 11,
     "metadata": {},
     "output_type": "execute_result"
    }
   ],
   "source": [
    "df.loc[0]"
   ]
  },
  {
   "cell_type": "code",
   "execution_count": 13,
   "id": "2aedce6d-b95f-4b80-aef0-2e276989d891",
   "metadata": {},
   "outputs": [
    {
     "data": {
      "text/plain": [
       "Name         Ram\n",
       "Age         20.0\n",
       "City       Delhi\n",
       "Course       MCA\n",
       "College      SMS\n",
       "Name: 0, dtype: object"
      ]
     },
     "execution_count": 13,
     "metadata": {},
     "output_type": "execute_result"
    }
   ],
   "source": [
    "df.iloc[0]"
   ]
  },
  {
   "cell_type": "code",
   "execution_count": 15,
   "id": "68503657-ebb6-4e47-97a8-508ba598676c",
   "metadata": {},
   "outputs": [
    {
     "data": {
      "text/plain": [
       "'Ram'"
      ]
     },
     "execution_count": 15,
     "metadata": {},
     "output_type": "execute_result"
    }
   ],
   "source": [
    "df.loc[0,'Name']"
   ]
  },
  {
   "cell_type": "code",
   "execution_count": 19,
   "id": "fcee2400-8193-43bc-8b00-5818c40178d8",
   "metadata": {},
   "outputs": [
    {
     "data": {
      "text/plain": [
       "'Delhi'"
      ]
     },
     "execution_count": 19,
     "metadata": {},
     "output_type": "execute_result"
    }
   ],
   "source": [
    "df.iloc[0,2]"
   ]
  },
  {
   "cell_type": "code",
   "execution_count": 21,
   "id": "8333178d-032a-4f7e-8d9e-c0d94c206857",
   "metadata": {},
   "outputs": [
    {
     "data": {
      "text/plain": [
       "'Ram'"
      ]
     },
     "execution_count": 21,
     "metadata": {},
     "output_type": "execute_result"
    }
   ],
   "source": [
    "df.at[0,'Name']"
   ]
  },
  {
   "cell_type": "code",
   "execution_count": 22,
   "id": "75c6b3ce-19fa-479a-9561-fc8730ff7907",
   "metadata": {},
   "outputs": [
    {
     "data": {
      "text/plain": [
       "'Delhi'"
      ]
     },
     "execution_count": 22,
     "metadata": {},
     "output_type": "execute_result"
    }
   ],
   "source": [
    "df.iat[0,2]"
   ]
  },
  {
   "cell_type": "markdown",
   "id": "96d7aa19-f999-43e5-abb9-355746c08a13",
   "metadata": {},
   "source": [
    "# Filtering with conditions:-"
   ]
  },
  {
   "cell_type": "code",
   "execution_count": 24,
   "id": "845c3c6f-b595-4281-8c73-16f5435527d3",
   "metadata": {},
   "outputs": [
    {
     "data": {
      "text/html": [
       "<div>\n",
       "<style scoped>\n",
       "    .dataframe tbody tr th:only-of-type {\n",
       "        vertical-align: middle;\n",
       "    }\n",
       "\n",
       "    .dataframe tbody tr th {\n",
       "        vertical-align: top;\n",
       "    }\n",
       "\n",
       "    .dataframe thead th {\n",
       "        text-align: right;\n",
       "    }\n",
       "</style>\n",
       "<table border=\"1\" class=\"dataframe\">\n",
       "  <thead>\n",
       "    <tr style=\"text-align: right;\">\n",
       "      <th></th>\n",
       "      <th>Name</th>\n",
       "      <th>Age</th>\n",
       "      <th>City</th>\n",
       "      <th>Course</th>\n",
       "      <th>College</th>\n",
       "    </tr>\n",
       "  </thead>\n",
       "  <tbody>\n",
       "    <tr>\n",
       "      <th>1</th>\n",
       "      <td>Shyam</td>\n",
       "      <td>22.0</td>\n",
       "      <td>Mumbai</td>\n",
       "      <td>BCA</td>\n",
       "      <td>SMS</td>\n",
       "    </tr>\n",
       "    <tr>\n",
       "      <th>2</th>\n",
       "      <td>Rohan</td>\n",
       "      <td>21.0</td>\n",
       "      <td>Patna</td>\n",
       "      <td>BBA</td>\n",
       "      <td>SMS</td>\n",
       "    </tr>\n",
       "    <tr>\n",
       "      <th>5</th>\n",
       "      <td>Pooja</td>\n",
       "      <td>23.0</td>\n",
       "      <td>Mumbai</td>\n",
       "      <td>MCA</td>\n",
       "      <td>SMS</td>\n",
       "    </tr>\n",
       "    <tr>\n",
       "      <th>8</th>\n",
       "      <td>Kunal</td>\n",
       "      <td>34.0</td>\n",
       "      <td>Delhi</td>\n",
       "      <td>BBA</td>\n",
       "      <td>SMS</td>\n",
       "    </tr>\n",
       "    <tr>\n",
       "      <th>10</th>\n",
       "      <td>Bhavna</td>\n",
       "      <td>23.0</td>\n",
       "      <td>Mumbai</td>\n",
       "      <td>MBA</td>\n",
       "      <td>SMS</td>\n",
       "    </tr>\n",
       "  </tbody>\n",
       "</table>\n",
       "</div>"
      ],
      "text/plain": [
       "      Name   Age    City Course College\n",
       "1    Shyam  22.0  Mumbai    BCA     SMS\n",
       "2    Rohan  21.0   Patna    BBA     SMS\n",
       "5    Pooja  23.0  Mumbai    MCA     SMS\n",
       "8    Kunal  34.0   Delhi    BBA     SMS\n",
       "10  Bhavna  23.0  Mumbai    MBA     SMS"
      ]
     },
     "execution_count": 24,
     "metadata": {},
     "output_type": "execute_result"
    }
   ],
   "source": [
    "df[df[\"Age\"]>20]"
   ]
  },
  {
   "cell_type": "code",
   "execution_count": 25,
   "id": "cccc8651-cdfd-4957-b120-a9266cef75a9",
   "metadata": {},
   "outputs": [
    {
     "data": {
      "text/html": [
       "<div>\n",
       "<style scoped>\n",
       "    .dataframe tbody tr th:only-of-type {\n",
       "        vertical-align: middle;\n",
       "    }\n",
       "\n",
       "    .dataframe tbody tr th {\n",
       "        vertical-align: top;\n",
       "    }\n",
       "\n",
       "    .dataframe thead th {\n",
       "        text-align: right;\n",
       "    }\n",
       "</style>\n",
       "<table border=\"1\" class=\"dataframe\">\n",
       "  <thead>\n",
       "    <tr style=\"text-align: right;\">\n",
       "      <th></th>\n",
       "      <th>Name</th>\n",
       "      <th>Age</th>\n",
       "      <th>City</th>\n",
       "      <th>Course</th>\n",
       "      <th>College</th>\n",
       "    </tr>\n",
       "  </thead>\n",
       "  <tbody>\n",
       "    <tr>\n",
       "      <th>3</th>\n",
       "      <td>Rohit</td>\n",
       "      <td>15.0</td>\n",
       "      <td>Varanasi</td>\n",
       "      <td>BCA</td>\n",
       "      <td>SMS</td>\n",
       "    </tr>\n",
       "    <tr>\n",
       "      <th>6</th>\n",
       "      <td>Shivam</td>\n",
       "      <td>11.0</td>\n",
       "      <td>Varanasi</td>\n",
       "      <td>BBA</td>\n",
       "      <td>SMS</td>\n",
       "    </tr>\n",
       "    <tr>\n",
       "      <th>7</th>\n",
       "      <td>Aman</td>\n",
       "      <td>20.0</td>\n",
       "      <td>Varanasi</td>\n",
       "      <td>BCA</td>\n",
       "      <td>SMS</td>\n",
       "    </tr>\n",
       "  </tbody>\n",
       "</table>\n",
       "</div>"
      ],
      "text/plain": [
       "      Name   Age      City Course College\n",
       "3    Rohit  15.0  Varanasi    BCA     SMS\n",
       "6  Shivam   11.0  Varanasi    BBA     SMS\n",
       "7     Aman  20.0  Varanasi    BCA     SMS"
      ]
     },
     "execution_count": 25,
     "metadata": {},
     "output_type": "execute_result"
    }
   ],
   "source": [
    "df[(df[\"Age\"]>10) & (df[\"City\"]==\"Varanasi\")]"
   ]
  },
  {
   "cell_type": "code",
   "execution_count": 27,
   "id": "9ce3dd05-916b-4086-8c3e-2b1710c036a6",
   "metadata": {},
   "outputs": [
    {
     "data": {
      "text/html": [
       "<div>\n",
       "<style scoped>\n",
       "    .dataframe tbody tr th:only-of-type {\n",
       "        vertical-align: middle;\n",
       "    }\n",
       "\n",
       "    .dataframe tbody tr th {\n",
       "        vertical-align: top;\n",
       "    }\n",
       "\n",
       "    .dataframe thead th {\n",
       "        text-align: right;\n",
       "    }\n",
       "</style>\n",
       "<table border=\"1\" class=\"dataframe\">\n",
       "  <thead>\n",
       "    <tr style=\"text-align: right;\">\n",
       "      <th></th>\n",
       "      <th>Name</th>\n",
       "      <th>Age</th>\n",
       "      <th>City</th>\n",
       "      <th>Course</th>\n",
       "      <th>College</th>\n",
       "    </tr>\n",
       "  </thead>\n",
       "  <tbody>\n",
       "    <tr>\n",
       "      <th>1</th>\n",
       "      <td>Shyam</td>\n",
       "      <td>22.0</td>\n",
       "      <td>Mumbai</td>\n",
       "      <td>BCA</td>\n",
       "      <td>SMS</td>\n",
       "    </tr>\n",
       "    <tr>\n",
       "      <th>2</th>\n",
       "      <td>Rohan</td>\n",
       "      <td>21.0</td>\n",
       "      <td>Patna</td>\n",
       "      <td>BBA</td>\n",
       "      <td>SMS</td>\n",
       "    </tr>\n",
       "    <tr>\n",
       "      <th>3</th>\n",
       "      <td>Rohit</td>\n",
       "      <td>15.0</td>\n",
       "      <td>Varanasi</td>\n",
       "      <td>BCA</td>\n",
       "      <td>SMS</td>\n",
       "    </tr>\n",
       "    <tr>\n",
       "      <th>5</th>\n",
       "      <td>Pooja</td>\n",
       "      <td>23.0</td>\n",
       "      <td>Mumbai</td>\n",
       "      <td>MCA</td>\n",
       "      <td>SMS</td>\n",
       "    </tr>\n",
       "    <tr>\n",
       "      <th>6</th>\n",
       "      <td>Shivam</td>\n",
       "      <td>11.0</td>\n",
       "      <td>Varanasi</td>\n",
       "      <td>BBA</td>\n",
       "      <td>SMS</td>\n",
       "    </tr>\n",
       "    <tr>\n",
       "      <th>7</th>\n",
       "      <td>Aman</td>\n",
       "      <td>20.0</td>\n",
       "      <td>Varanasi</td>\n",
       "      <td>BCA</td>\n",
       "      <td>SMS</td>\n",
       "    </tr>\n",
       "    <tr>\n",
       "      <th>8</th>\n",
       "      <td>Kunal</td>\n",
       "      <td>34.0</td>\n",
       "      <td>Delhi</td>\n",
       "      <td>BBA</td>\n",
       "      <td>SMS</td>\n",
       "    </tr>\n",
       "    <tr>\n",
       "      <th>10</th>\n",
       "      <td>Bhavna</td>\n",
       "      <td>23.0</td>\n",
       "      <td>Mumbai</td>\n",
       "      <td>MBA</td>\n",
       "      <td>SMS</td>\n",
       "    </tr>\n",
       "  </tbody>\n",
       "</table>\n",
       "</div>"
      ],
      "text/plain": [
       "       Name   Age      City Course College\n",
       "1     Shyam  22.0    Mumbai    BCA     SMS\n",
       "2     Rohan  21.0     Patna    BBA     SMS\n",
       "3     Rohit  15.0  Varanasi    BCA     SMS\n",
       "5     Pooja  23.0    Mumbai    MCA     SMS\n",
       "6   Shivam   11.0  Varanasi    BBA     SMS\n",
       "7      Aman  20.0  Varanasi    BCA     SMS\n",
       "8     Kunal  34.0     Delhi    BBA     SMS\n",
       "10   Bhavna  23.0    Mumbai    MBA     SMS"
      ]
     },
     "execution_count": 27,
     "metadata": {},
     "output_type": "execute_result"
    }
   ],
   "source": [
    "df[(df[\"Age\"]>20) | (df[\"City\"]==\"Varanasi\")]"
   ]
  },
  {
   "cell_type": "code",
   "execution_count": 29,
   "id": "13074a5c-65d4-44d2-bcec-60b20f87540a",
   "metadata": {},
   "outputs": [
    {
     "data": {
      "text/html": [
       "<div>\n",
       "<style scoped>\n",
       "    .dataframe tbody tr th:only-of-type {\n",
       "        vertical-align: middle;\n",
       "    }\n",
       "\n",
       "    .dataframe tbody tr th {\n",
       "        vertical-align: top;\n",
       "    }\n",
       "\n",
       "    .dataframe thead th {\n",
       "        text-align: right;\n",
       "    }\n",
       "</style>\n",
       "<table border=\"1\" class=\"dataframe\">\n",
       "  <thead>\n",
       "    <tr style=\"text-align: right;\">\n",
       "      <th></th>\n",
       "      <th>Name</th>\n",
       "      <th>Age</th>\n",
       "      <th>City</th>\n",
       "      <th>Course</th>\n",
       "      <th>College</th>\n",
       "    </tr>\n",
       "  </thead>\n",
       "  <tbody>\n",
       "    <tr>\n",
       "      <th>2</th>\n",
       "      <td>Rohan</td>\n",
       "      <td>21.0</td>\n",
       "      <td>Patna</td>\n",
       "      <td>BBA</td>\n",
       "      <td>SMS</td>\n",
       "    </tr>\n",
       "  </tbody>\n",
       "</table>\n",
       "</div>"
      ],
      "text/plain": [
       "    Name   Age   City Course College\n",
       "2  Rohan  21.0  Patna    BBA     SMS"
      ]
     },
     "execution_count": 29,
     "metadata": {},
     "output_type": "execute_result"
    }
   ],
   "source": [
    "df.query(\"Age > 20 and City == 'Patna' \")"
   ]
  },
  {
   "cell_type": "code",
   "execution_count": 31,
   "id": "687fd25b-c04a-4f9f-8446-bd2c7222bcc5",
   "metadata": {},
   "outputs": [
    {
     "data": {
      "text/html": [
       "<div>\n",
       "<style scoped>\n",
       "    .dataframe tbody tr th:only-of-type {\n",
       "        vertical-align: middle;\n",
       "    }\n",
       "\n",
       "    .dataframe tbody tr th {\n",
       "        vertical-align: top;\n",
       "    }\n",
       "\n",
       "    .dataframe thead th {\n",
       "        text-align: right;\n",
       "    }\n",
       "</style>\n",
       "<table border=\"1\" class=\"dataframe\">\n",
       "  <thead>\n",
       "    <tr style=\"text-align: right;\">\n",
       "      <th></th>\n",
       "      <th>Name</th>\n",
       "      <th>Age</th>\n",
       "      <th>City</th>\n",
       "      <th>Course</th>\n",
       "      <th>College</th>\n",
       "    </tr>\n",
       "  </thead>\n",
       "  <tbody>\n",
       "    <tr>\n",
       "      <th>1</th>\n",
       "      <td>Shyam</td>\n",
       "      <td>22.0</td>\n",
       "      <td>Mumbai</td>\n",
       "      <td>BCA</td>\n",
       "      <td>SMS</td>\n",
       "    </tr>\n",
       "    <tr>\n",
       "      <th>2</th>\n",
       "      <td>Rohan</td>\n",
       "      <td>21.0</td>\n",
       "      <td>Patna</td>\n",
       "      <td>BBA</td>\n",
       "      <td>SMS</td>\n",
       "    </tr>\n",
       "    <tr>\n",
       "      <th>5</th>\n",
       "      <td>Pooja</td>\n",
       "      <td>23.0</td>\n",
       "      <td>Mumbai</td>\n",
       "      <td>MCA</td>\n",
       "      <td>SMS</td>\n",
       "    </tr>\n",
       "    <tr>\n",
       "      <th>8</th>\n",
       "      <td>Kunal</td>\n",
       "      <td>34.0</td>\n",
       "      <td>Delhi</td>\n",
       "      <td>BBA</td>\n",
       "      <td>SMS</td>\n",
       "    </tr>\n",
       "    <tr>\n",
       "      <th>10</th>\n",
       "      <td>Bhavna</td>\n",
       "      <td>23.0</td>\n",
       "      <td>Mumbai</td>\n",
       "      <td>MBA</td>\n",
       "      <td>SMS</td>\n",
       "    </tr>\n",
       "  </tbody>\n",
       "</table>\n",
       "</div>"
      ],
      "text/plain": [
       "      Name   Age    City Course College\n",
       "1    Shyam  22.0  Mumbai    BCA     SMS\n",
       "2    Rohan  21.0   Patna    BBA     SMS\n",
       "5    Pooja  23.0  Mumbai    MCA     SMS\n",
       "8    Kunal  34.0   Delhi    BBA     SMS\n",
       "10  Bhavna  23.0  Mumbai    MBA     SMS"
      ]
     },
     "execution_count": 31,
     "metadata": {},
     "output_type": "execute_result"
    }
   ],
   "source": [
    "col=\"Age\"\n",
    "df.query(f\"{col}>20\")"
   ]
  },
  {
   "cell_type": "code",
   "execution_count": 34,
   "id": "6b342419-62bc-4258-88ae-8691cda9b561",
   "metadata": {},
   "outputs": [
    {
     "data": {
      "text/html": [
       "<div>\n",
       "<style scoped>\n",
       "    .dataframe tbody tr th:only-of-type {\n",
       "        vertical-align: middle;\n",
       "    }\n",
       "\n",
       "    .dataframe tbody tr th {\n",
       "        vertical-align: top;\n",
       "    }\n",
       "\n",
       "    .dataframe thead th {\n",
       "        text-align: right;\n",
       "    }\n",
       "</style>\n",
       "<table border=\"1\" class=\"dataframe\">\n",
       "  <thead>\n",
       "    <tr style=\"text-align: right;\">\n",
       "      <th></th>\n",
       "      <th>Name</th>\n",
       "      <th>Age</th>\n",
       "      <th>City</th>\n",
       "      <th>Course</th>\n",
       "      <th>College</th>\n",
       "    </tr>\n",
       "  </thead>\n",
       "  <tbody>\n",
       "    <tr>\n",
       "      <th>10</th>\n",
       "      <td>Bhavna</td>\n",
       "      <td>23.0</td>\n",
       "      <td>Mumbai</td>\n",
       "      <td>MBA</td>\n",
       "      <td>SMS</td>\n",
       "    </tr>\n",
       "  </tbody>\n",
       "</table>\n",
       "</div>"
      ],
      "text/plain": [
       "      Name   Age    City Course College\n",
       "10  Bhavna  23.0  Mumbai    MBA     SMS"
      ]
     },
     "execution_count": 34,
     "metadata": {},
     "output_type": "execute_result"
    }
   ],
   "source": [
    "df.query(\"Name == 'Bhavna'\")"
   ]
  },
  {
   "cell_type": "code",
   "execution_count": 33,
   "id": "9b4ccb75-20b2-4494-8a50-aac3755e48de",
   "metadata": {},
   "outputs": [
    {
     "data": {
      "text/html": [
       "<div>\n",
       "<style scoped>\n",
       "    .dataframe tbody tr th:only-of-type {\n",
       "        vertical-align: middle;\n",
       "    }\n",
       "\n",
       "    .dataframe tbody tr th {\n",
       "        vertical-align: top;\n",
       "    }\n",
       "\n",
       "    .dataframe thead th {\n",
       "        text-align: right;\n",
       "    }\n",
       "</style>\n",
       "<table border=\"1\" class=\"dataframe\">\n",
       "  <thead>\n",
       "    <tr style=\"text-align: right;\">\n",
       "      <th></th>\n",
       "      <th>Name</th>\n",
       "      <th>Age</th>\n",
       "      <th>City</th>\n",
       "      <th>Course</th>\n",
       "      <th>College</th>\n",
       "    </tr>\n",
       "  </thead>\n",
       "  <tbody>\n",
       "    <tr>\n",
       "      <th>1</th>\n",
       "      <td>Shyam</td>\n",
       "      <td>22.0</td>\n",
       "      <td>Mumbai</td>\n",
       "      <td>BCA</td>\n",
       "      <td>SMS</td>\n",
       "    </tr>\n",
       "    <tr>\n",
       "      <th>5</th>\n",
       "      <td>Pooja</td>\n",
       "      <td>23.0</td>\n",
       "      <td>Mumbai</td>\n",
       "      <td>MCA</td>\n",
       "      <td>SMS</td>\n",
       "    </tr>\n",
       "    <tr>\n",
       "      <th>10</th>\n",
       "      <td>Bhavna</td>\n",
       "      <td>23.0</td>\n",
       "      <td>Mumbai</td>\n",
       "      <td>MBA</td>\n",
       "      <td>SMS</td>\n",
       "    </tr>\n",
       "    <tr>\n",
       "      <th>12</th>\n",
       "      <td>NaN</td>\n",
       "      <td>20.0</td>\n",
       "      <td>Mumbai</td>\n",
       "      <td>NaN</td>\n",
       "      <td>SMS</td>\n",
       "    </tr>\n",
       "  </tbody>\n",
       "</table>\n",
       "</div>"
      ],
      "text/plain": [
       "      Name   Age    City Course College\n",
       "1    Shyam  22.0  Mumbai    BCA     SMS\n",
       "5    Pooja  23.0  Mumbai    MCA     SMS\n",
       "10  Bhavna  23.0  Mumbai    MBA     SMS\n",
       "12     NaN  20.0  Mumbai    NaN     SMS"
      ]
     },
     "execution_count": 33,
     "metadata": {},
     "output_type": "execute_result"
    }
   ],
   "source": [
    "df.query(\"City == 'Mumbai'\")"
   ]
  }
 ],
 "metadata": {
  "kernelspec": {
   "display_name": "Python [conda env:base] *",
   "language": "python",
   "name": "conda-base-py"
  },
  "language_info": {
   "codemirror_mode": {
    "name": "ipython",
    "version": 3
   },
   "file_extension": ".py",
   "mimetype": "text/x-python",
   "name": "python",
   "nbconvert_exporter": "python",
   "pygments_lexer": "ipython3",
   "version": "3.12.7"
  }
 },
 "nbformat": 4,
 "nbformat_minor": 5
}
