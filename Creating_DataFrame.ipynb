{
 "cells": [
  {
   "cell_type": "code",
   "execution_count": 2,
   "id": "524ebdab-2032-4d49-8b2c-599796754bf3",
   "metadata": {},
   "outputs": [],
   "source": [
    "import pandas as pd"
   ]
  },
  {
   "cell_type": "markdown",
   "id": "c72bd7dc-e682-4ea1-8f46-4ccf04852967",
   "metadata": {},
   "source": [
    "# Creating DataFrame from python list"
   ]
  },
  {
   "cell_type": "code",
   "execution_count": 4,
   "id": "261a3e4b-8a14-437f-af4c-31de41eb8bfb",
   "metadata": {},
   "outputs": [
    {
     "name": "stdout",
     "output_type": "stream",
     "text": [
      "[['Shivam', 20], ['Bob', 30], ['Charlie', 40]]\n"
     ]
    }
   ],
   "source": [
    "data=[\n",
    "    [\"Shivam\",20],\n",
    "    [\"Bob\",30],\n",
    "    [\"Charlie\",40]\n",
    "]\n",
    "print(data)"
   ]
  },
  {
   "cell_type": "code",
   "execution_count": 6,
   "id": "de912ef3-9351-4c83-847a-2b6dd433c7b7",
   "metadata": {},
   "outputs": [
    {
     "name": "stdout",
     "output_type": "stream",
     "text": [
      "         0   1\n",
      "0   Shivam  20\n",
      "1      Bob  30\n",
      "2  Charlie  40\n"
     ]
    }
   ],
   "source": [
    "df=pd.DataFrame(data)\n",
    "print(df)"
   ]
  },
  {
   "cell_type": "code",
   "execution_count": 7,
   "id": "7bbc5cea-b2cd-4b5d-b032-b7ed532bdcfd",
   "metadata": {},
   "outputs": [
    {
     "name": "stdout",
     "output_type": "stream",
     "text": [
      "      Name  Age\n",
      "0   Shivam   20\n",
      "1      Bob   30\n",
      "2  Charlie   40\n"
     ]
    }
   ],
   "source": [
    "df=pd.DataFrame(data,columns=[\"Name\",\"Age\"])\n",
    "print(df)"
   ]
  },
  {
   "cell_type": "markdown",
   "id": "9203e1e2-6f49-4d26-94b4-df2552615068",
   "metadata": {},
   "source": [
    "# Creating DataFrame from Dictonary list"
   ]
  },
  {
   "cell_type": "code",
   "execution_count": 8,
   "id": "2f9639a7-59fd-4000-b173-c83179f2a6fa",
   "metadata": {},
   "outputs": [
    {
     "name": "stdout",
     "output_type": "stream",
     "text": [
      "     Name  Age\n",
      "0  Shivam   20\n",
      "1   Rohan   30\n",
      "2     Ram   40\n"
     ]
    }
   ],
   "source": [
    "data1={\n",
    "    \"Name\": [\"Shivam\",\"Rohan\",\"Ram\"],\n",
    "    \"Age\" : [20,30,40]\n",
    "}\n",
    "df1=pd.DataFrame(data1)\n",
    "print(df1)"
   ]
  },
  {
   "cell_type": "markdown",
   "id": "63a557d0-cca1-492a-80c7-e5c463eb6213",
   "metadata": {},
   "source": [
    "# Creating DataFrame from Numpy Array"
   ]
  },
  {
   "cell_type": "code",
   "execution_count": 10,
   "id": "001915d3-c8a8-42c9-9a32-6782b2ecb3a5",
   "metadata": {},
   "outputs": [],
   "source": [
    "import numpy as np"
   ]
  },
  {
   "cell_type": "code",
   "execution_count": 13,
   "id": "68bdb6bf-08fc-4f20-92e0-1502ceac6a68",
   "metadata": {},
   "outputs": [
    {
     "name": "stdout",
     "output_type": "stream",
     "text": [
      "   A  B\n",
      "0  1  2\n",
      "1  3  4\n"
     ]
    }
   ],
   "source": [
    "arr=np.array([[1,2],[3,4]])\n",
    "df2=pd.DataFrame(arr,columns=[\"A\",\"B\"])\n",
    "print(df2)"
   ]
  },
  {
   "cell_type": "markdown",
   "id": "d2e3755c-0475-46e4-9306-50abb14684d0",
   "metadata": {},
   "source": [
    "# Creating DataFrame from csv files"
   ]
  },
  {
   "cell_type": "code",
   "execution_count": 25,
   "id": "987c9247-21c9-4520-a094-f1b4595e5c96",
   "metadata": {},
   "outputs": [
    {
     "name": "stdout",
     "output_type": "stream",
     "text": [
      "                 Actor                      Film  Year            Genre  \\\n",
      "0       Shah Rukh Khan                   Pathaan  2023           Action   \n",
      "1          Salman Khan           Tiger Zinda Hai  2017           Action   \n",
      "2           Aamir Khan                    Dangal  2016        Biography   \n",
      "3        Ranbir Kapoor                Brahmastra  2022          Fantasy   \n",
      "4        Ranveer Singh                 Padmaavat  2018       Historical   \n",
      "5   Ayushmann Khurrana                 Andhadhun  2018         Thriller   \n",
      "6        Rajkummar Rao                     Stree  2018    Horror Comedy   \n",
      "7       Hrithik Roshan                       War  2019           Action   \n",
      "8         Akshay Kumar                Good Newwz  2019           Comedy   \n",
      "9        Kartik Aaryan         Bhool Bhulaiyaa 2  2022    Horror Comedy   \n",
      "10        Varun Dhawan     Badrinath Ki Dulhania  2017  Romantic Comedy   \n",
      "11       Vicky Kaushal  Uri: The Surgical Strike  2019           Action   \n",
      "\n",
      "    BoxOffice(INR Crore)  IMDb  \n",
      "0                   1050   7.2  \n",
      "1                    565   6.0  \n",
      "2                   2024   8.4  \n",
      "3                    431   5.6  \n",
      "4                    585   7.0  \n",
      "5                    111   8.3  \n",
      "6                    180   7.5  \n",
      "7                    475   6.5  \n",
      "8                    318   7.0  \n",
      "9                    266   5.9  \n",
      "10                   201   6.1  \n",
      "11                   342   8.2  \n"
     ]
    }
   ],
   "source": [
    "df3=pd.read_csv(\"data.csv.csv\")\n",
    "print(df3)\n"
   ]
  },
  {
   "cell_type": "code",
   "execution_count": 26,
   "id": "e149e7a6-5881-4810-a7ea-8924098f2464",
   "metadata": {},
   "outputs": [
    {
     "data": {
      "text/html": [
       "<div>\n",
       "<style scoped>\n",
       "    .dataframe tbody tr th:only-of-type {\n",
       "        vertical-align: middle;\n",
       "    }\n",
       "\n",
       "    .dataframe tbody tr th {\n",
       "        vertical-align: top;\n",
       "    }\n",
       "\n",
       "    .dataframe thead th {\n",
       "        text-align: right;\n",
       "    }\n",
       "</style>\n",
       "<table border=\"1\" class=\"dataframe\">\n",
       "  <thead>\n",
       "    <tr style=\"text-align: right;\">\n",
       "      <th></th>\n",
       "      <th>Actor</th>\n",
       "      <th>Film</th>\n",
       "      <th>Year</th>\n",
       "      <th>Genre</th>\n",
       "      <th>BoxOffice(INR Crore)</th>\n",
       "      <th>IMDb</th>\n",
       "    </tr>\n",
       "  </thead>\n",
       "  <tbody>\n",
       "    <tr>\n",
       "      <th>0</th>\n",
       "      <td>Shah Rukh Khan</td>\n",
       "      <td>Pathaan</td>\n",
       "      <td>2023</td>\n",
       "      <td>Action</td>\n",
       "      <td>1050</td>\n",
       "      <td>7.2</td>\n",
       "    </tr>\n",
       "    <tr>\n",
       "      <th>1</th>\n",
       "      <td>Salman Khan</td>\n",
       "      <td>Tiger Zinda Hai</td>\n",
       "      <td>2017</td>\n",
       "      <td>Action</td>\n",
       "      <td>565</td>\n",
       "      <td>6.0</td>\n",
       "    </tr>\n",
       "    <tr>\n",
       "      <th>2</th>\n",
       "      <td>Aamir Khan</td>\n",
       "      <td>Dangal</td>\n",
       "      <td>2016</td>\n",
       "      <td>Biography</td>\n",
       "      <td>2024</td>\n",
       "      <td>8.4</td>\n",
       "    </tr>\n",
       "    <tr>\n",
       "      <th>3</th>\n",
       "      <td>Ranbir Kapoor</td>\n",
       "      <td>Brahmastra</td>\n",
       "      <td>2022</td>\n",
       "      <td>Fantasy</td>\n",
       "      <td>431</td>\n",
       "      <td>5.6</td>\n",
       "    </tr>\n",
       "    <tr>\n",
       "      <th>4</th>\n",
       "      <td>Ranveer Singh</td>\n",
       "      <td>Padmaavat</td>\n",
       "      <td>2018</td>\n",
       "      <td>Historical</td>\n",
       "      <td>585</td>\n",
       "      <td>7.0</td>\n",
       "    </tr>\n",
       "  </tbody>\n",
       "</table>\n",
       "</div>"
      ],
      "text/plain": [
       "            Actor             Film  Year       Genre  BoxOffice(INR Crore)  \\\n",
       "0  Shah Rukh Khan          Pathaan  2023      Action                  1050   \n",
       "1     Salman Khan  Tiger Zinda Hai  2017      Action                   565   \n",
       "2      Aamir Khan           Dangal  2016   Biography                  2024   \n",
       "3   Ranbir Kapoor       Brahmastra  2022     Fantasy                   431   \n",
       "4   Ranveer Singh        Padmaavat  2018  Historical                   585   \n",
       "\n",
       "   IMDb  \n",
       "0   7.2  \n",
       "1   6.0  \n",
       "2   8.4  \n",
       "3   5.6  \n",
       "4   7.0  "
      ]
     },
     "execution_count": 26,
     "metadata": {},
     "output_type": "execute_result"
    }
   ],
   "source": [
    "df3.head()"
   ]
  },
  {
   "cell_type": "code",
   "execution_count": 27,
   "id": "ea18a308-b1a4-4db2-8047-be742b3bc92d",
   "metadata": {},
   "outputs": [
    {
     "data": {
      "text/html": [
       "<div>\n",
       "<style scoped>\n",
       "    .dataframe tbody tr th:only-of-type {\n",
       "        vertical-align: middle;\n",
       "    }\n",
       "\n",
       "    .dataframe tbody tr th {\n",
       "        vertical-align: top;\n",
       "    }\n",
       "\n",
       "    .dataframe thead th {\n",
       "        text-align: right;\n",
       "    }\n",
       "</style>\n",
       "<table border=\"1\" class=\"dataframe\">\n",
       "  <thead>\n",
       "    <tr style=\"text-align: right;\">\n",
       "      <th></th>\n",
       "      <th>Actor</th>\n",
       "      <th>Film</th>\n",
       "      <th>Year</th>\n",
       "      <th>Genre</th>\n",
       "      <th>BoxOffice(INR Crore)</th>\n",
       "      <th>IMDb</th>\n",
       "    </tr>\n",
       "  </thead>\n",
       "  <tbody>\n",
       "    <tr>\n",
       "      <th>7</th>\n",
       "      <td>Hrithik Roshan</td>\n",
       "      <td>War</td>\n",
       "      <td>2019</td>\n",
       "      <td>Action</td>\n",
       "      <td>475</td>\n",
       "      <td>6.5</td>\n",
       "    </tr>\n",
       "    <tr>\n",
       "      <th>8</th>\n",
       "      <td>Akshay Kumar</td>\n",
       "      <td>Good Newwz</td>\n",
       "      <td>2019</td>\n",
       "      <td>Comedy</td>\n",
       "      <td>318</td>\n",
       "      <td>7.0</td>\n",
       "    </tr>\n",
       "    <tr>\n",
       "      <th>9</th>\n",
       "      <td>Kartik Aaryan</td>\n",
       "      <td>Bhool Bhulaiyaa 2</td>\n",
       "      <td>2022</td>\n",
       "      <td>Horror Comedy</td>\n",
       "      <td>266</td>\n",
       "      <td>5.9</td>\n",
       "    </tr>\n",
       "    <tr>\n",
       "      <th>10</th>\n",
       "      <td>Varun Dhawan</td>\n",
       "      <td>Badrinath Ki Dulhania</td>\n",
       "      <td>2017</td>\n",
       "      <td>Romantic Comedy</td>\n",
       "      <td>201</td>\n",
       "      <td>6.1</td>\n",
       "    </tr>\n",
       "    <tr>\n",
       "      <th>11</th>\n",
       "      <td>Vicky Kaushal</td>\n",
       "      <td>Uri: The Surgical Strike</td>\n",
       "      <td>2019</td>\n",
       "      <td>Action</td>\n",
       "      <td>342</td>\n",
       "      <td>8.2</td>\n",
       "    </tr>\n",
       "  </tbody>\n",
       "</table>\n",
       "</div>"
      ],
      "text/plain": [
       "             Actor                      Film  Year            Genre  \\\n",
       "7   Hrithik Roshan                       War  2019           Action   \n",
       "8     Akshay Kumar                Good Newwz  2019           Comedy   \n",
       "9    Kartik Aaryan         Bhool Bhulaiyaa 2  2022    Horror Comedy   \n",
       "10    Varun Dhawan     Badrinath Ki Dulhania  2017  Romantic Comedy   \n",
       "11   Vicky Kaushal  Uri: The Surgical Strike  2019           Action   \n",
       "\n",
       "    BoxOffice(INR Crore)  IMDb  \n",
       "7                    475   6.5  \n",
       "8                    318   7.0  \n",
       "9                    266   5.9  \n",
       "10                   201   6.1  \n",
       "11                   342   8.2  "
      ]
     },
     "execution_count": 27,
     "metadata": {},
     "output_type": "execute_result"
    }
   ],
   "source": [
    "df3.tail()"
   ]
  },
  {
   "cell_type": "code",
   "execution_count": 28,
   "id": "a0049460-bbb9-4478-b873-df6807db21bb",
   "metadata": {},
   "outputs": [
    {
     "data": {
      "text/html": [
       "<div>\n",
       "<style scoped>\n",
       "    .dataframe tbody tr th:only-of-type {\n",
       "        vertical-align: middle;\n",
       "    }\n",
       "\n",
       "    .dataframe tbody tr th {\n",
       "        vertical-align: top;\n",
       "    }\n",
       "\n",
       "    .dataframe thead th {\n",
       "        text-align: right;\n",
       "    }\n",
       "</style>\n",
       "<table border=\"1\" class=\"dataframe\">\n",
       "  <thead>\n",
       "    <tr style=\"text-align: right;\">\n",
       "      <th></th>\n",
       "      <th>Year</th>\n",
       "      <th>BoxOffice(INR Crore)</th>\n",
       "      <th>IMDb</th>\n",
       "    </tr>\n",
       "  </thead>\n",
       "  <tbody>\n",
       "    <tr>\n",
       "      <th>count</th>\n",
       "      <td>12.000000</td>\n",
       "      <td>12.000000</td>\n",
       "      <td>12.000000</td>\n",
       "    </tr>\n",
       "    <tr>\n",
       "      <th>mean</th>\n",
       "      <td>2019.000000</td>\n",
       "      <td>545.666667</td>\n",
       "      <td>6.975000</td>\n",
       "    </tr>\n",
       "    <tr>\n",
       "      <th>std</th>\n",
       "      <td>2.215647</td>\n",
       "      <td>528.535942</td>\n",
       "      <td>0.981766</td>\n",
       "    </tr>\n",
       "    <tr>\n",
       "      <th>min</th>\n",
       "      <td>2016.000000</td>\n",
       "      <td>111.000000</td>\n",
       "      <td>5.600000</td>\n",
       "    </tr>\n",
       "    <tr>\n",
       "      <th>25%</th>\n",
       "      <td>2017.750000</td>\n",
       "      <td>249.750000</td>\n",
       "      <td>6.075000</td>\n",
       "    </tr>\n",
       "    <tr>\n",
       "      <th>50%</th>\n",
       "      <td>2018.500000</td>\n",
       "      <td>386.500000</td>\n",
       "      <td>7.000000</td>\n",
       "    </tr>\n",
       "    <tr>\n",
       "      <th>75%</th>\n",
       "      <td>2019.750000</td>\n",
       "      <td>570.000000</td>\n",
       "      <td>7.675000</td>\n",
       "    </tr>\n",
       "    <tr>\n",
       "      <th>max</th>\n",
       "      <td>2023.000000</td>\n",
       "      <td>2024.000000</td>\n",
       "      <td>8.400000</td>\n",
       "    </tr>\n",
       "  </tbody>\n",
       "</table>\n",
       "</div>"
      ],
      "text/plain": [
       "              Year  BoxOffice(INR Crore)       IMDb\n",
       "count    12.000000             12.000000  12.000000\n",
       "mean   2019.000000            545.666667   6.975000\n",
       "std       2.215647            528.535942   0.981766\n",
       "min    2016.000000            111.000000   5.600000\n",
       "25%    2017.750000            249.750000   6.075000\n",
       "50%    2018.500000            386.500000   7.000000\n",
       "75%    2019.750000            570.000000   7.675000\n",
       "max    2023.000000           2024.000000   8.400000"
      ]
     },
     "execution_count": 28,
     "metadata": {},
     "output_type": "execute_result"
    }
   ],
   "source": [
    "df3.describe()"
   ]
  },
  {
   "cell_type": "code",
   "execution_count": 33,
   "id": "e342a3b0-fd39-485d-9f38-16d78c73fe40",
   "metadata": {},
   "outputs": [
    {
     "data": {
      "text/plain": [
       "Index(['Actor', 'Film', 'Year', 'Genre', 'BoxOffice(INR Crore)', 'IMDb'], dtype='object')"
      ]
     },
     "execution_count": 33,
     "metadata": {},
     "output_type": "execute_result"
    }
   ],
   "source": [
    "df3.columns"
   ]
  },
  {
   "cell_type": "code",
   "execution_count": 34,
   "id": "fd191108-8cf9-4b23-8012-0464f6eb75ba",
   "metadata": {},
   "outputs": [
    {
     "data": {
      "text/plain": [
       "(12, 6)"
      ]
     },
     "execution_count": 34,
     "metadata": {},
     "output_type": "execute_result"
    }
   ],
   "source": [
    "df3.shape"
   ]
  },
  {
   "cell_type": "code",
   "execution_count": 29,
   "id": "5df6aefa-4115-4cd3-bc6c-ce7abdb2b2f9",
   "metadata": {},
   "outputs": [
    {
     "name": "stdout",
     "output_type": "stream",
     "text": [
      "<class 'pandas.core.frame.DataFrame'>\n",
      "RangeIndex: 12 entries, 0 to 11\n",
      "Data columns (total 6 columns):\n",
      " #   Column                Non-Null Count  Dtype  \n",
      "---  ------                --------------  -----  \n",
      " 0   Actor                 12 non-null     object \n",
      " 1   Film                  12 non-null     object \n",
      " 2   Year                  12 non-null     int64  \n",
      " 3   Genre                 12 non-null     object \n",
      " 4   BoxOffice(INR Crore)  12 non-null     int64  \n",
      " 5   IMDb                  12 non-null     float64\n",
      "dtypes: float64(1), int64(2), object(3)\n",
      "memory usage: 708.0+ bytes\n"
     ]
    }
   ],
   "source": [
    "df3.info()"
   ]
  },
  {
   "cell_type": "code",
   "execution_count": 38,
   "id": "defdd52f-5308-4b5a-9be8-2e45eb4b5a5f",
   "metadata": {},
   "outputs": [
    {
     "data": {
      "text/html": [
       "<div>\n",
       "<style scoped>\n",
       "    .dataframe tbody tr th:only-of-type {\n",
       "        vertical-align: middle;\n",
       "    }\n",
       "\n",
       "    .dataframe tbody tr th {\n",
       "        vertical-align: top;\n",
       "    }\n",
       "\n",
       "    .dataframe thead th {\n",
       "        text-align: right;\n",
       "    }\n",
       "</style>\n",
       "<table border=\"1\" class=\"dataframe\">\n",
       "  <thead>\n",
       "    <tr style=\"text-align: right;\">\n",
       "      <th></th>\n",
       "      <th>Actor</th>\n",
       "      <th>Film</th>\n",
       "    </tr>\n",
       "  </thead>\n",
       "  <tbody>\n",
       "    <tr>\n",
       "      <th>0</th>\n",
       "      <td>Shah Rukh Khan</td>\n",
       "      <td>Pathaan</td>\n",
       "    </tr>\n",
       "    <tr>\n",
       "      <th>1</th>\n",
       "      <td>Salman Khan</td>\n",
       "      <td>Tiger Zinda Hai</td>\n",
       "    </tr>\n",
       "    <tr>\n",
       "      <th>2</th>\n",
       "      <td>Aamir Khan</td>\n",
       "      <td>Dangal</td>\n",
       "    </tr>\n",
       "    <tr>\n",
       "      <th>3</th>\n",
       "      <td>Ranbir Kapoor</td>\n",
       "      <td>Brahmastra</td>\n",
       "    </tr>\n",
       "    <tr>\n",
       "      <th>4</th>\n",
       "      <td>Ranveer Singh</td>\n",
       "      <td>Padmaavat</td>\n",
       "    </tr>\n",
       "    <tr>\n",
       "      <th>5</th>\n",
       "      <td>Ayushmann Khurrana</td>\n",
       "      <td>Andhadhun</td>\n",
       "    </tr>\n",
       "    <tr>\n",
       "      <th>6</th>\n",
       "      <td>Rajkummar Rao</td>\n",
       "      <td>Stree</td>\n",
       "    </tr>\n",
       "    <tr>\n",
       "      <th>7</th>\n",
       "      <td>Hrithik Roshan</td>\n",
       "      <td>War</td>\n",
       "    </tr>\n",
       "    <tr>\n",
       "      <th>8</th>\n",
       "      <td>Akshay Kumar</td>\n",
       "      <td>Good Newwz</td>\n",
       "    </tr>\n",
       "    <tr>\n",
       "      <th>9</th>\n",
       "      <td>Kartik Aaryan</td>\n",
       "      <td>Bhool Bhulaiyaa 2</td>\n",
       "    </tr>\n",
       "    <tr>\n",
       "      <th>10</th>\n",
       "      <td>Varun Dhawan</td>\n",
       "      <td>Badrinath Ki Dulhania</td>\n",
       "    </tr>\n",
       "    <tr>\n",
       "      <th>11</th>\n",
       "      <td>Vicky Kaushal</td>\n",
       "      <td>Uri: The Surgical Strike</td>\n",
       "    </tr>\n",
       "  </tbody>\n",
       "</table>\n",
       "</div>"
      ],
      "text/plain": [
       "                 Actor                      Film\n",
       "0       Shah Rukh Khan                   Pathaan\n",
       "1          Salman Khan           Tiger Zinda Hai\n",
       "2           Aamir Khan                    Dangal\n",
       "3        Ranbir Kapoor                Brahmastra\n",
       "4        Ranveer Singh                 Padmaavat\n",
       "5   Ayushmann Khurrana                 Andhadhun\n",
       "6        Rajkummar Rao                     Stree\n",
       "7       Hrithik Roshan                       War\n",
       "8         Akshay Kumar                Good Newwz\n",
       "9        Kartik Aaryan         Bhool Bhulaiyaa 2\n",
       "10        Varun Dhawan     Badrinath Ki Dulhania\n",
       "11       Vicky Kaushal  Uri: The Surgical Strike"
      ]
     },
     "execution_count": 38,
     "metadata": {},
     "output_type": "execute_result"
    }
   ],
   "source": [
    "df5=pd.read_csv(\"data.csv.csv\")\n",
    "pd.read_csv(\"data.csv.csv\",usecols=[\"Actor\",\"Film\"])"
   ]
  },
  {
   "cell_type": "markdown",
   "id": "4dad1ae5-245e-4abc-89bf-d3e9a067d86e",
   "metadata": {},
   "source": [
    "# Creating DataFrame from excel files"
   ]
  },
  {
   "cell_type": "code",
   "execution_count": 23,
   "id": "7cef7833-897c-4481-a98b-3328f1aac991",
   "metadata": {},
   "outputs": [
    {
     "name": "stdout",
     "output_type": "stream",
     "text": [
      "     name  roll  age\n",
      "0     abc    45   20\n",
      "1     cgg    12   62\n",
      "2     dgh    63   20\n",
      "3   hgkjh    96   85\n",
      "4  hghhvf   101   35\n"
     ]
    }
   ],
   "source": [
    "df4=pd.read_excel(\"book.xlsx\")\n",
    "print(df4)"
   ]
  },
  {
   "cell_type": "code",
   "execution_count": 42,
   "id": "bed67a33-6716-4115-a11e-3a685ff987d7",
   "metadata": {},
   "outputs": [
    {
     "name": "stdout",
     "output_type": "stream",
     "text": [
      "      Name  Roll Course      Batch\n",
      "0  Pranjal    25    MCA  2024-2026\n",
      "1  Prateek    26    MCA  2024-2026\n",
      "2   Shivam    42    MCA  2024-2026\n",
      "3    Tarun    53    MCA  2024-2026\n"
     ]
    }
   ],
   "source": [
    "df6=pd.read_excel(\"class.xlsx\")\n",
    "print(df6)"
   ]
  },
  {
   "cell_type": "code",
   "execution_count": 44,
   "id": "8cfef41f-d9d8-4d1a-b808-2c61a5be51be",
   "metadata": {},
   "outputs": [
    {
     "name": "stdout",
     "output_type": "stream",
     "text": [
      "      Name  Roll\n",
      "0  Pranjal    25\n",
      "1  Prateek    26\n",
      "2   Shivam    42\n",
      "3    Tarun    53\n"
     ]
    }
   ],
   "source": [
    "df6=pd.read_excel(\"class.xlsx\",usecols=[\"Name\",\"Roll\"])\n",
    "print(df6)"
   ]
  }
 ],
 "metadata": {
  "kernelspec": {
   "display_name": "Python [conda env:base] *",
   "language": "python",
   "name": "conda-base-py"
  },
  "language_info": {
   "codemirror_mode": {
    "name": "ipython",
    "version": 3
   },
   "file_extension": ".py",
   "mimetype": "text/x-python",
   "name": "python",
   "nbconvert_exporter": "python",
   "pygments_lexer": "ipython3",
   "version": "3.12.7"
  }
 },
 "nbformat": 4,
 "nbformat_minor": 5
}
